{
 "cells": [
  {
   "cell_type": "markdown",
   "metadata": {},
   "source": [
    "# Project 2 - Autonomous Driving\n",
    "\n",
    "By Laura Madrid & Lucas Noritomi-Hartwig\n",
    "\n",
    "Autonomous driving is one of the major research venues these days. A lot of \n",
    "effort is devoted to it by both the academics as well as industry. In this \n",
    "project you'll familiarize yourself with some of the most important problems \n",
    "that arise in the field of autonomous driving.\n",
    "\n",
    "The input to your algorithm is a stereo image pair and the camera parameters. \n",
    "You will also have available a set of training images where the cars have been \n",
    "annotated with 2D bounding boxes as well as viewpoint. Furthermore, you'll have \n",
    "a few images where the road has been annotated. Here are the tasks to solve:"
   ]
  },
  {
   "cell_type": "code",
   "execution_count": 1,
   "metadata": {},
   "outputs": [],
   "source": [
    "# Import required packages\n",
    "import numpy as np"
   ]
  },
  {
   "cell_type": "code",
   "execution_count": null,
   "metadata": {},
   "outputs": [],
   "source": [
    "def compute_disparity(image_1, image_2):\n",
    "    pass"
   ]
  }
 ],
 "metadata": {
  "language_info": {
   "name": "python"
  }
 },
 "nbformat": 4,
 "nbformat_minor": 2
}
